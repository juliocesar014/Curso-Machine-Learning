{
  "nbformat": 4,
  "nbformat_minor": 0,
  "metadata": {
    "colab": {
      "provenance": [],
      "authorship_tag": "ABX9TyO0YbkcqrNQgGRb+uvMuj8T",
      "include_colab_link": true
    },
    "kernelspec": {
      "name": "python3",
      "display_name": "Python 3"
    },
    "language_info": {
      "name": "python"
    }
  },
  "cells": [
    {
      "cell_type": "markdown",
      "metadata": {
        "id": "view-in-github",
        "colab_type": "text"
      },
      "source": [
        "<a href=\"https://colab.research.google.com/github/juliocesar014/Curso-Machine-Learning/blob/main/ML_Implementa%C3%A7%C3%A3o_dos_Dados.ipynb\" target=\"_parent\"><img src=\"https://colab.research.google.com/assets/colab-badge.svg\" alt=\"Open In Colab\"/></a>"
      ]
    },
    {
      "cell_type": "code",
      "execution_count": 2,
      "metadata": {
        "id": "XrUpHIkXz3cV"
      },
      "outputs": [],
      "source": [
        "#Conjunto de importacoes\n",
        "import numpy as np\n",
        "import pandas as pd\n",
        "import matplotlib.pyplot as plt\n",
        "from sklearn.naive_bayes import MultinomialNB\n",
        "from sklearn.naive_bayes import GaussianNB\n",
        "from sklearn.metrics import accuracy_score\n",
        "from sklearn.model_selection import train_test_split"
      ]
    },
    {
      "cell_type": "code",
      "source": [
        "#Carrega o dataset com os dados para o treinamento e validacao\n",
        "df = pd.read_csv(\"dados_cryotherapy.csv\", encoding=\"utf-8\")"
      ],
      "metadata": {
        "id": "UTOMEav60VYt"
      },
      "execution_count": 3,
      "outputs": []
    },
    {
      "cell_type": "code",
      "source": [
        "#Listando as 10 primeiras linhas\n",
        "df.head(10)"
      ],
      "metadata": {
        "colab": {
          "base_uri": "https://localhost:8080/",
          "height": 324
        },
        "id": "np_vVCaL0aed",
        "outputId": "5bb52db6-62d6-4c1a-ec4f-f27f2f36edf0"
      },
      "execution_count": 5,
      "outputs": [
        {
          "output_type": "execute_result",
          "data": {
            "text/plain": [
              "   Sexo  Idade  Tempo  Numero_Verrugas  Tipo  Area  Resultado_Tratamento\n",
              "0     1     35     12                5     1   100                     0\n",
              "1     1     29      7                5     1    96                     1\n",
              "2     1     50      8                1     3   132                     0\n",
              "3     1     32     11                7     3   750                     0\n",
              "4     1     67      9                1     1    42                     0\n",
              "5     1     41      8                2     2    20                     1\n",
              "6     1     36     11                2     1     8                     0\n",
              "7     1     59      3                3     3    20                     0\n",
              "8     1     20      4               12     1     6                     1\n",
              "9     2     34     11                3     3   150                     0"
            ],
            "text/html": [
              "\n",
              "  <div id=\"df-c399cbdb-a911-4ca3-8242-50b7d4df1aa6\">\n",
              "    <div class=\"colab-df-container\">\n",
              "      <div>\n",
              "<style scoped>\n",
              "    .dataframe tbody tr th:only-of-type {\n",
              "        vertical-align: middle;\n",
              "    }\n",
              "\n",
              "    .dataframe tbody tr th {\n",
              "        vertical-align: top;\n",
              "    }\n",
              "\n",
              "    .dataframe thead th {\n",
              "        text-align: right;\n",
              "    }\n",
              "</style>\n",
              "<table border=\"1\" class=\"dataframe\">\n",
              "  <thead>\n",
              "    <tr style=\"text-align: right;\">\n",
              "      <th></th>\n",
              "      <th>Sexo</th>\n",
              "      <th>Idade</th>\n",
              "      <th>Tempo</th>\n",
              "      <th>Numero_Verrugas</th>\n",
              "      <th>Tipo</th>\n",
              "      <th>Area</th>\n",
              "      <th>Resultado_Tratamento</th>\n",
              "    </tr>\n",
              "  </thead>\n",
              "  <tbody>\n",
              "    <tr>\n",
              "      <th>0</th>\n",
              "      <td>1</td>\n",
              "      <td>35</td>\n",
              "      <td>12</td>\n",
              "      <td>5</td>\n",
              "      <td>1</td>\n",
              "      <td>100</td>\n",
              "      <td>0</td>\n",
              "    </tr>\n",
              "    <tr>\n",
              "      <th>1</th>\n",
              "      <td>1</td>\n",
              "      <td>29</td>\n",
              "      <td>7</td>\n",
              "      <td>5</td>\n",
              "      <td>1</td>\n",
              "      <td>96</td>\n",
              "      <td>1</td>\n",
              "    </tr>\n",
              "    <tr>\n",
              "      <th>2</th>\n",
              "      <td>1</td>\n",
              "      <td>50</td>\n",
              "      <td>8</td>\n",
              "      <td>1</td>\n",
              "      <td>3</td>\n",
              "      <td>132</td>\n",
              "      <td>0</td>\n",
              "    </tr>\n",
              "    <tr>\n",
              "      <th>3</th>\n",
              "      <td>1</td>\n",
              "      <td>32</td>\n",
              "      <td>11</td>\n",
              "      <td>7</td>\n",
              "      <td>3</td>\n",
              "      <td>750</td>\n",
              "      <td>0</td>\n",
              "    </tr>\n",
              "    <tr>\n",
              "      <th>4</th>\n",
              "      <td>1</td>\n",
              "      <td>67</td>\n",
              "      <td>9</td>\n",
              "      <td>1</td>\n",
              "      <td>1</td>\n",
              "      <td>42</td>\n",
              "      <td>0</td>\n",
              "    </tr>\n",
              "    <tr>\n",
              "      <th>5</th>\n",
              "      <td>1</td>\n",
              "      <td>41</td>\n",
              "      <td>8</td>\n",
              "      <td>2</td>\n",
              "      <td>2</td>\n",
              "      <td>20</td>\n",
              "      <td>1</td>\n",
              "    </tr>\n",
              "    <tr>\n",
              "      <th>6</th>\n",
              "      <td>1</td>\n",
              "      <td>36</td>\n",
              "      <td>11</td>\n",
              "      <td>2</td>\n",
              "      <td>1</td>\n",
              "      <td>8</td>\n",
              "      <td>0</td>\n",
              "    </tr>\n",
              "    <tr>\n",
              "      <th>7</th>\n",
              "      <td>1</td>\n",
              "      <td>59</td>\n",
              "      <td>3</td>\n",
              "      <td>3</td>\n",
              "      <td>3</td>\n",
              "      <td>20</td>\n",
              "      <td>0</td>\n",
              "    </tr>\n",
              "    <tr>\n",
              "      <th>8</th>\n",
              "      <td>1</td>\n",
              "      <td>20</td>\n",
              "      <td>4</td>\n",
              "      <td>12</td>\n",
              "      <td>1</td>\n",
              "      <td>6</td>\n",
              "      <td>1</td>\n",
              "    </tr>\n",
              "    <tr>\n",
              "      <th>9</th>\n",
              "      <td>2</td>\n",
              "      <td>34</td>\n",
              "      <td>11</td>\n",
              "      <td>3</td>\n",
              "      <td>3</td>\n",
              "      <td>150</td>\n",
              "      <td>0</td>\n",
              "    </tr>\n",
              "  </tbody>\n",
              "</table>\n",
              "</div>\n",
              "      <button class=\"colab-df-convert\" onclick=\"convertToInteractive('df-c399cbdb-a911-4ca3-8242-50b7d4df1aa6')\"\n",
              "              title=\"Convert this dataframe to an interactive table.\"\n",
              "              style=\"display:none;\">\n",
              "        \n",
              "  <svg xmlns=\"http://www.w3.org/2000/svg\" height=\"24px\"viewBox=\"0 0 24 24\"\n",
              "       width=\"24px\">\n",
              "    <path d=\"M0 0h24v24H0V0z\" fill=\"none\"/>\n",
              "    <path d=\"M18.56 5.44l.94 2.06.94-2.06 2.06-.94-2.06-.94-.94-2.06-.94 2.06-2.06.94zm-11 1L8.5 8.5l.94-2.06 2.06-.94-2.06-.94L8.5 2.5l-.94 2.06-2.06.94zm10 10l.94 2.06.94-2.06 2.06-.94-2.06-.94-.94-2.06-.94 2.06-2.06.94z\"/><path d=\"M17.41 7.96l-1.37-1.37c-.4-.4-.92-.59-1.43-.59-.52 0-1.04.2-1.43.59L10.3 9.45l-7.72 7.72c-.78.78-.78 2.05 0 2.83L4 21.41c.39.39.9.59 1.41.59.51 0 1.02-.2 1.41-.59l7.78-7.78 2.81-2.81c.8-.78.8-2.07 0-2.86zM5.41 20L4 18.59l7.72-7.72 1.47 1.35L5.41 20z\"/>\n",
              "  </svg>\n",
              "      </button>\n",
              "      \n",
              "  <style>\n",
              "    .colab-df-container {\n",
              "      display:flex;\n",
              "      flex-wrap:wrap;\n",
              "      gap: 12px;\n",
              "    }\n",
              "\n",
              "    .colab-df-convert {\n",
              "      background-color: #E8F0FE;\n",
              "      border: none;\n",
              "      border-radius: 50%;\n",
              "      cursor: pointer;\n",
              "      display: none;\n",
              "      fill: #1967D2;\n",
              "      height: 32px;\n",
              "      padding: 0 0 0 0;\n",
              "      width: 32px;\n",
              "    }\n",
              "\n",
              "    .colab-df-convert:hover {\n",
              "      background-color: #E2EBFA;\n",
              "      box-shadow: 0px 1px 2px rgba(60, 64, 67, 0.3), 0px 1px 3px 1px rgba(60, 64, 67, 0.15);\n",
              "      fill: #174EA6;\n",
              "    }\n",
              "\n",
              "    [theme=dark] .colab-df-convert {\n",
              "      background-color: #3B4455;\n",
              "      fill: #D2E3FC;\n",
              "    }\n",
              "\n",
              "    [theme=dark] .colab-df-convert:hover {\n",
              "      background-color: #434B5C;\n",
              "      box-shadow: 0px 1px 3px 1px rgba(0, 0, 0, 0.15);\n",
              "      filter: drop-shadow(0px 1px 2px rgba(0, 0, 0, 0.3));\n",
              "      fill: #FFFFFF;\n",
              "    }\n",
              "  </style>\n",
              "\n",
              "      <script>\n",
              "        const buttonEl =\n",
              "          document.querySelector('#df-c399cbdb-a911-4ca3-8242-50b7d4df1aa6 button.colab-df-convert');\n",
              "        buttonEl.style.display =\n",
              "          google.colab.kernel.accessAllowed ? 'block' : 'none';\n",
              "\n",
              "        async function convertToInteractive(key) {\n",
              "          const element = document.querySelector('#df-c399cbdb-a911-4ca3-8242-50b7d4df1aa6');\n",
              "          const dataTable =\n",
              "            await google.colab.kernel.invokeFunction('convertToInteractive',\n",
              "                                                     [key], {});\n",
              "          if (!dataTable) return;\n",
              "\n",
              "          const docLinkHtml = 'Like what you see? Visit the ' +\n",
              "            '<a target=\"_blank\" href=https://colab.research.google.com/notebooks/data_table.ipynb>data table notebook</a>'\n",
              "            + ' to learn more about interactive tables.';\n",
              "          element.innerHTML = '';\n",
              "          dataTable['output_type'] = 'display_data';\n",
              "          await google.colab.output.renderOutput(dataTable, element);\n",
              "          const docLink = document.createElement('div');\n",
              "          docLink.innerHTML = docLinkHtml;\n",
              "          element.appendChild(docLink);\n",
              "        }\n",
              "      </script>\n",
              "    </div>\n",
              "  </div>\n",
              "  "
            ]
          },
          "metadata": {},
          "execution_count": 5
        }
      ]
    },
    {
      "cell_type": "code",
      "source": [
        "#Definição dos atributos que deverao ser treinados para gerar o modelo de classificacao\n",
        "data_treino = np.array(df[['Sexo', 'Tempo', 'Numero_Verrugas', 'Tipo','Area']])\n",
        "\n",
        "#Definição do atributo de classificacao\n",
        "data_classif = np.array(df['Resultado_Tratamento'])"
      ],
      "metadata": {
        "id": "-t_aQTBA0p7D"
      },
      "execution_count": 12,
      "outputs": []
    },
    {
      "cell_type": "code",
      "source": [
        "#Verificando o formato dos dados\n",
        "df.shape"
      ],
      "metadata": {
        "colab": {
          "base_uri": "https://localhost:8080/"
        },
        "id": "7bTc6hMj1Ntu",
        "outputId": "a3309302-d3df-46da-f83f-bd9996013731"
      },
      "execution_count": 13,
      "outputs": [
        {
          "output_type": "execute_result",
          "data": {
            "text/plain": [
              "(90, 7)"
            ]
          },
          "metadata": {},
          "execution_count": 13
        }
      ]
    },
    {
      "cell_type": "code",
      "source": [
        "#Verificando os tipos das fetchurs\n",
        "df.dtypes"
      ],
      "metadata": {
        "colab": {
          "base_uri": "https://localhost:8080/"
        },
        "id": "MxexgrDT1UU9",
        "outputId": "71cef0c1-9a7d-4bde-fb51-9c5672a4da69"
      },
      "execution_count": 15,
      "outputs": [
        {
          "output_type": "execute_result",
          "data": {
            "text/plain": [
              "Sexo                    int64\n",
              "Idade                   int64\n",
              "Tempo                   int64\n",
              "Numero_Verrugas         int64\n",
              "Tipo                    int64\n",
              "Area                    int64\n",
              "Resultado_Tratamento    int64\n",
              "dtype: object"
            ]
          },
          "metadata": {},
          "execution_count": 15
        }
      ]
    },
    {
      "cell_type": "code",
      "source": [
        "# Identificando a correlação entre as variáveis\n",
        "# Correlação não implica causalidade\n",
        "def plot_corr(df, size=10):\n",
        "    corr = df.corr()    \n",
        "    fig, ax = plt.subplots(figsize = (size, size))\n",
        "    ax.matshow(corr)  \n",
        "    plt.xticks(range(len(corr.columns)), corr.columns) \n",
        "    plt.yticks(range(len(corr.columns)), corr.columns) "
      ],
      "metadata": {
        "id": "p0fDWtk01qEa"
      },
      "execution_count": 17,
      "outputs": []
    },
    {
      "cell_type": "code",
      "source": [
        "plot_corr(df)"
      ],
      "metadata": {
        "colab": {
          "base_uri": "https://localhost:8080/",
          "height": 595
        },
        "id": "ZyJu71Sy1vIp",
        "outputId": "28773d18-9628-4733-8e18-9baf254d8216"
      },
      "execution_count": 18,
      "outputs": [
        {
          "output_type": "display_data",
          "data": {
            "text/plain": [
              "<Figure size 720x720 with 1 Axes>"
            ],
            "image/png": "[encoded data removed]"
          },
          "metadata": {
            "needs_background": "light"
          }
        }
      ]
    },
    {
      "cell_type": "code",
      "source": [
        "# Spliting = 75% para dados de treino e 25% para dados de teste"
      ],
      "metadata": {
        "id": "_NEIX3SP13Za"
      },
      "execution_count": 19,
      "outputs": []
    },
    {
      "cell_type": "code",
      "source": [
        "#Definição dos conjuntos de treinamento e validação\n",
        "x_treino, x_val, y_treino, y_val = train_test_split(data_treino, data_classif, test_size=0.25)"
      ],
      "metadata": {
        "id": "pJPkdeia16ep"
      },
      "execution_count": 28,
      "outputs": []
    },
    {
      "cell_type": "code",
      "source": [
        "#Apresentacao dos dados selecionados para o conjunto de treinamento e validacao\n",
        "print(\"-----------------------\")\n",
        "print(\"Conjunto de Treinamento\")\n",
        "print(x_treino)\n",
        "print(\"Conjunto de Validacao\")\n",
        "print(x_val)\n",
        "print(\"-----------------------\")"
      ],
      "metadata": {
        "colab": {
          "base_uri": "https://localhost:8080/"
        },
        "id": "KxNogz9q1-o5",
        "outputId": "1f371792-536f-43ac-87b3-d668872af27e"
      },
      "execution_count": 29,
      "outputs": [
        {
          "output_type": "stream",
          "name": "stdout",
          "text": [
            "-----------------------\n",
            "Conjunto de Treinamento\n",
            "[[  2   5   2   1  70]\n",
            " [  2   8   2   1   6]\n",
            " [  2   8  12   1  30]\n",
            " [  1   7   6   1  96]\n",
            " [  2   4  11   1 100]\n",
            " [  2  11   3   3 150]\n",
            " [  2  10   7   1  35]\n",
            " [  1   4   3   1   6]\n",
            " [  1  10   7   1  42]\n",
            " [  2   9   4   3 132]\n",
            " [  2   5   9   1 100]\n",
            " [  1  11   2   1  10]\n",
            " [  1   4   3   1 100]\n",
            " [  1   8   1   3 132]\n",
            " [  1  12   1   3 150]\n",
            " [  2  10   5   1  35]\n",
            " [  1  10   7   3  72]\n",
            " [  2   1   8   3 115]\n",
            " [  1   9   9   1 100]\n",
            " [  1  10   1   3  95]\n",
            " [  2  11  12   3  72]\n",
            " [  2   5   1   1  80]\n",
            " [  1   5   4   1  63]\n",
            " [  1   2   2   1 115]\n",
            " [  1   5  10   1  63]\n",
            " [  1   2   3   3  20]\n",
            " [  1  11   9   2  80]\n",
            " [  2   2  10   3  70]\n",
            " [  2   1  12   3  70]\n",
            " [  2   2   3   1   4]\n",
            " [  1   4   1   1  80]\n",
            " [  1  11   3   2  60]\n",
            " [  2  12   3   3  95]\n",
            " [  1  10   5   1   6]\n",
            " [  1  11   1   3 150]\n",
            " [  1  10  11   1  30]\n",
            " [  1  12   5   1 100]\n",
            " [  1   9   8   1  20]\n",
            " [  2   4   1   1   6]\n",
            " [  2  12   4   3 750]\n",
            " [  1   8  11   3 132]\n",
            " [  1  11   5   1  96]\n",
            " [  1   1  10   1 115]\n",
            " [  1  11   2   1   8]\n",
            " [  1  11   7   3 750]\n",
            " [  2   9   3   3  20]\n",
            " [  1   3   2   1   4]\n",
            " [  1   4   7   1   6]\n",
            " [  2   8   8   3 100]\n",
            " [  2   8   6   1 160]\n",
            " [  2   4   8   1  80]\n",
            " [  1   7   5   1  96]\n",
            " [  1   1   2   1  75]\n",
            " [  1   8   2   2  20]\n",
            " [  2  10   5   1  35]\n",
            " [  1   5   3   1   6]\n",
            " [  2  11   2   1  10]\n",
            " [  1   2  11   1   4]\n",
            " [  1   5   5   1   6]\n",
            " [  2  12  12   3 750]\n",
            " [  1   5   2   1  70]\n",
            " [  2   8   6   3 100]\n",
            " [  2   8   1   2  60]\n",
            " [  1  10  10   1  20]\n",
            " [  2  12   3   3  95]\n",
            " [  2   5   9   1  70]\n",
            " [  1   4  12   1   6]]\n",
            "Conjunto de Validacao\n",
            "[[  2  12  12   3  42]\n",
            " [  2   3   3   1  63]\n",
            " [  2   9   5   3  72]\n",
            " [  1   3  11   3  20]\n",
            " [  2   7   5   2  20]\n",
            " [  2   6   2   1  30]\n",
            " [  2   8   6   2  80]\n",
            " [  2   3   2   3  70]\n",
            " [  1   8   8   1 160]\n",
            " [  1   9   1   1  42]\n",
            " [  2  12   5   3 100]\n",
            " [  2  10   2   2  20]\n",
            " [  2  11   6   1   8]\n",
            " [  1  10   3   2  60]\n",
            " [  1   9  12   1  10]\n",
            " [  1   3   3   3  20]\n",
            " [  1   3  11   1  75]\n",
            " [  1   7   2   1 100]\n",
            " [  2  10   4   1   8]\n",
            " [  2   8   9   1 160]\n",
            " [  1  10   7   1   6]\n",
            " [  2   3   6   1  75]\n",
            " [  2   9   1   2  80]]\n",
            "-----------------------\n"
          ]
        }
      ]
    },
    {
      "cell_type": "code",
      "source": [
        "# Imprimindo os resultados\n",
        "print(\"{0:0.2f}% nos dados de treino\".format((len(x_treino)/len(df.index)) * 100))\n",
        "print(\"{0:0.2f}% nos dados de teste\".format((len(x_val)/len(df.index)) * 100))"
      ],
      "metadata": {
        "colab": {
          "base_uri": "https://localhost:8080/"
        },
        "id": "JzJgfG2N2B8Y",
        "outputId": "8cb4772a-df05-49a9-f1c7-cdddd537c48e"
      },
      "execution_count": 30,
      "outputs": [
        {
          "output_type": "stream",
          "name": "stdout",
          "text": [
            "74.44% nos dados de treino\n",
            "25.56% nos dados de teste\n"
          ]
        }
      ]
    },
    {
      "cell_type": "code",
      "source": [
        "# - Aplicando o Algoritmo com o Naive Bayes - GaussianNB."
      ],
      "metadata": {
        "id": "atJLn_bz2ErZ"
      },
      "execution_count": 31,
      "outputs": []
    },
    {
      "cell_type": "code",
      "source": [
        "#Treinamento do modelo com os dados atribuidos ao conjunto de treinamento\n",
        "modelo_NB = GaussianNB()\n",
        "modelo_NB.fit(x_treino, y_treino)"
      ],
      "metadata": {
        "colab": {
          "base_uri": "https://localhost:8080/"
        },
        "id": "pbc1LfMi2RtI",
        "outputId": "3b0f5caf-d473-46a1-8eb5-4d75d1ff4d0f"
      },
      "execution_count": 32,
      "outputs": [
        {
          "output_type": "execute_result",
          "data": {
            "text/plain": [
              "GaussianNB()"
            ]
          },
          "metadata": {},
          "execution_count": 32
        }
      ]
    },
    {
      "cell_type": "code",
      "source": [
        "#Predição e acurácia para o conjunto de treinamento\n",
        "print(\"Predicao para o conjunto de treinamento\")\n",
        "y_pred_treino = modelo_NB.predict(x_treino)\n",
        "print(\"Acuracia para o conjunto de treinamento\")\n",
        "print(accuracy_score(y_treino, y_pred_treino))\n",
        "#print(accuracy_score(y_treino, y_pred_treino)*100 + '%').str()\n",
        "print(\"Na Base de Treinamento\")"
      ],
      "metadata": {
        "colab": {
          "base_uri": "https://localhost:8080/"
        },
        "id": "Dsev0Ino2UVH",
        "outputId": "5011d149-ccd0-4727-c907-66801c80dcb6"
      },
      "execution_count": 34,
      "outputs": [
        {
          "output_type": "stream",
          "name": "stdout",
          "text": [
            "Predicao para o conjunto de treinamento\n",
            "Acuracia para o conjunto de treinamento\n",
            "0.8507462686567164\n",
            "Na Base de Treinamento\n"
          ]
        }
      ]
    },
    {
      "cell_type": "code",
      "source": [
        "#Predição e acurácia para o conjunto de validação\n",
        "print(\"Predicao para o conjunto de validacao\")\n",
        "y_pred_val = modelo_NB.predict(x_val)\n",
        "print(\"Acuracia para o conjunto de validacao\")\n",
        "print(accuracy_score(y_val, y_pred_val))\n",
        "print(\"na Base de Teste\")"
      ],
      "metadata": {
        "colab": {
          "base_uri": "https://localhost:8080/"
        },
        "id": "XQo0bBB32Zsm",
        "outputId": "3f80c2b8-8a15-423b-e679-8d19e2e9db78"
      },
      "execution_count": 36,
      "outputs": [
        {
          "output_type": "stream",
          "name": "stdout",
          "text": [
            "Predicao para o conjunto de validacao\n",
            "Acuracia para o conjunto de validacao\n",
            "0.6086956521739131\n",
            "na Base de Teste\n"
          ]
        }
      ]
    },
    {
      "cell_type": "code",
      "source": [
        "from sklearn import metrics"
      ],
      "metadata": {
        "id": "O5Hmi2l82jf3"
      },
      "execution_count": 38,
      "outputs": []
    },
    {
      "cell_type": "code",
      "source": [
        "# Criando uma Confusion Matrix\n",
        "print(\"Confusion Matrix\")\n",
        "\n",
        "print(\"{0}\".format(metrics.confusion_matrix(y_val, y_pred_val, labels = [1, 0])))\n",
        "print(\"\")\n",
        "\n",
        "print(\"Classification Report\")\n",
        "print(metrics.classification_report(y_val, y_pred_val, labels = [1, 0]))"
      ],
      "metadata": {
        "colab": {
          "base_uri": "https://localhost:8080/"
        },
        "id": "pBBI1XQt2gWW",
        "outputId": "99a7e469-8606-465e-b73c-f891f66847bf"
      },
      "execution_count": 39,
      "outputs": [
        {
          "output_type": "stream",
          "name": "stdout",
          "text": [
            "Confusion Matrix\n",
            "[[8 3]\n",
            " [6 6]]\n",
            "\n",
            "Classification Report\n",
            "              precision    recall  f1-score   support\n",
            "\n",
            "           1       0.57      0.73      0.64        11\n",
            "           0       0.67      0.50      0.57        12\n",
            "\n",
            "    accuracy                           0.61        23\n",
            "   macro avg       0.62      0.61      0.61        23\n",
            "weighted avg       0.62      0.61      0.60        23\n",
            "\n"
          ]
        }
      ]
    },
    {
      "cell_type": "code",
      "source": [
        "# Criando uma Curva Roc\n",
        "print(\"Roc Curve\")\n",
        "\n",
        "# Compute ROC curve and ROC area for each class\n",
        "#fpr = dict()\n",
        "#tpr = dict()\n",
        "#roc_auc = dict()\n",
        "#for i in range(y_pred_val):\n",
        "#    fpr[i], tpr[i], _ = roc_curve(y_val, y_pred_val)\n",
        "#    roc_auc[i] = auc(fpr[i], tpr[i])\n",
        "\n",
        "# Compute micro-average ROC curve and ROC area\n",
        "#fpr[\"micro\"], tpr[\"micro\"], _ = roc_curve(y_val.ravel(), y_score.ravel())\n",
        "#roc_auc[\"micro\"] = auc(fpr[\"micro\"], tpr[\"micro\"])"
      ],
      "metadata": {
        "colab": {
          "base_uri": "https://localhost:8080/"
        },
        "id": "NaavzG1f2lnE",
        "outputId": "504e27dc-a6bc-4ad3-9faa-a8d488e41b0e"
      },
      "execution_count": 40,
      "outputs": [
        {
          "output_type": "stream",
          "name": "stdout",
          "text": [
            "Roc Curve\n"
          ]
        }
      ]
    },
    {
      "cell_type": "code",
      "source": [
        "# Otimizando o modelo com RandomForest\n",
        "# Algoritmo 02 - RandomForest - Realizando operações com mais de um Algoritmo de Machine Learning (Classificação)"
      ],
      "metadata": {
        "id": "OosZs-fW2q00"
      },
      "execution_count": 41,
      "outputs": []
    },
    {
      "cell_type": "code",
      "source": [
        "from sklearn.ensemble import RandomForestClassifier"
      ],
      "metadata": {
        "id": "-SnHlhDl2roU"
      },
      "execution_count": 42,
      "outputs": []
    },
    {
      "cell_type": "code",
      "source": [
        "modelo_v2 = RandomForestClassifier(random_state = 42)\n",
        "modelo_v2.fit(x_treino, y_treino.ravel())"
      ],
      "metadata": {
        "colab": {
          "base_uri": "https://localhost:8080/"
        },
        "id": "BcPmvdS12tRk",
        "outputId": "5e34a939-70df-4e66-cd57-741b84cb0b88"
      },
      "execution_count": 43,
      "outputs": [
        {
          "output_type": "execute_result",
          "data": {
            "text/plain": [
              "RandomForestClassifier(random_state=42)"
            ]
          },
          "metadata": {},
          "execution_count": 43
        }
      ]
    },
    {
      "cell_type": "code",
      "source": [
        "# Verificando os dados de treino\n",
        "rf_predict_train = modelo_v2.predict(x_treino)\n",
        "print(\"Exatidão (Accuracy): {0:.4f}\".format(metrics.accuracy_score(y_treino, rf_predict_train)))\n",
        "print(\"OK\")"
      ],
      "metadata": {
        "colab": {
          "base_uri": "https://localhost:8080/"
        },
        "id": "6P6apk5g2vKl",
        "outputId": "f651cb01-ec4c-44dd-c69c-a663b6d660ef"
      },
      "execution_count": 48,
      "outputs": [
        {
          "output_type": "stream",
          "name": "stdout",
          "text": [
            "Exatidão (Accuracy): 1.0000\n",
            "OK\n"
          ]
        }
      ]
    },
    {
      "cell_type": "code",
      "source": [
        "# Verificando nos dados de teste\n",
        "rf_predict_test = modelo_v2.predict(x_val)\n",
        "print(\"Exatidão (Accuracy): na Base de Teste {0:.4f}\".format(metrics.accuracy_score(y_val, rf_predict_test)))\n",
        "print(\"OK\")"
      ],
      "metadata": {
        "colab": {
          "base_uri": "https://localhost:8080/"
        },
        "id": "uIhjfSLK2xiU",
        "outputId": "8d3f2592-dd9b-40e4-db7f-732866675f6c"
      },
      "execution_count": 46,
      "outputs": [
        {
          "output_type": "stream",
          "name": "stdout",
          "text": [
            "Exatidão (Accuracy): na Base de Teste 0.7391\n",
            "OK\n"
          ]
        }
      ]
    },
    {
      "cell_type": "code",
      "source": [
        "# Validação do Modelo com a Matrix de Confusão\n",
        "print(\"Confusion Matrix\")\n",
        "\n",
        "print(\"{0}\".format(metrics.confusion_matrix(y_val, rf_predict_test, labels = [1, 0])))\n",
        "print(\"\")\n",
        "\n",
        "print(\"Classification Report\")\n",
        "print(metrics.classification_report(y_val, rf_predict_test, labels = [1, 0]))"
      ],
      "metadata": {
        "colab": {
          "base_uri": "https://localhost:8080/"
        },
        "id": "s3PQv6N024Gk",
        "outputId": "de5ea2f1-6457-41c0-8386-6a143e090764"
      },
      "execution_count": 49,
      "outputs": [
        {
          "output_type": "stream",
          "name": "stdout",
          "text": [
            "Confusion Matrix\n",
            "[[10  1]\n",
            " [ 5  7]]\n",
            "\n",
            "Classification Report\n",
            "              precision    recall  f1-score   support\n",
            "\n",
            "           1       0.67      0.91      0.77        11\n",
            "           0       0.88      0.58      0.70        12\n",
            "\n",
            "    accuracy                           0.74        23\n",
            "   macro avg       0.77      0.75      0.73        23\n",
            "weighted avg       0.78      0.74      0.73        23\n",
            "\n"
          ]
        }
      ]
    },
    {
      "cell_type": "code",
      "source": [
        "#Regressão Logística"
      ],
      "metadata": {
        "id": "PPZ2MGzu28aT"
      },
      "execution_count": 52,
      "outputs": []
    },
    {
      "cell_type": "code",
      "source": [
        "from sklearn.linear_model import LogisticRegression"
      ],
      "metadata": {
        "id": "LtgJW9uK3Brz"
      },
      "execution_count": 53,
      "outputs": []
    },
    {
      "cell_type": "code",
      "source": [
        "# Terceira versão do modelo usando Regressão Logística\n",
        "modelo_v3 = LogisticRegression(C = 0.7, random_state = 42)\n",
        "modelo_v3.fit(x_treino, y_treino.ravel())\n",
        "lr_predict_test = modelo_v3.predict(x_val)"
      ],
      "metadata": {
        "id": "n5YPv5613DHS"
      },
      "execution_count": 54,
      "outputs": []
    },
    {
      "cell_type": "code",
      "source": [
        "print(\"Exatidão (Accuracy): na Base de Teste {0:.4f}\".format(metrics.accuracy_score(y_val, lr_predict_test)))\n",
        "print()\n",
        "print(\"Classification Report\")\n",
        "print(metrics.classification_report(y_val, lr_predict_test, labels = [1, 0]))"
      ],
      "metadata": {
        "colab": {
          "base_uri": "https://localhost:8080/"
        },
        "id": "evPJWJlx3FNC",
        "outputId": "f6837dc6-85e6-4b4e-f1b9-9fcdf8221bd9"
      },
      "execution_count": 57,
      "outputs": [
        {
          "output_type": "stream",
          "name": "stdout",
          "text": [
            "Exatidão (Accuracy): na Base de Teste 0.7826\n",
            "\n",
            "Classification Report\n",
            "              precision    recall  f1-score   support\n",
            "\n",
            "           1       0.75      0.82      0.78        11\n",
            "           0       0.82      0.75      0.78        12\n",
            "\n",
            "    accuracy                           0.78        23\n",
            "   macro avg       0.78      0.78      0.78        23\n",
            "weighted avg       0.79      0.78      0.78        23\n",
            "\n"
          ]
        }
      ]
    },
    {
      "cell_type": "code",
      "source": [
        "### Resumindo\n",
        "## Exatidão nos dados Cryotherapy\n",
        "\n",
        "# Modelo usando algoritmo Naive Bayes         = 0.85  => Segunda Execução: 0.85 \n",
        "# Modelo usando algoritmo Random Forest       = 1.00  => Segunda Execução: 1.00\n",
        "# Modelo usando algoritmo Regressão Logística = 0.78  => Segunda Execução: 0.78"
      ],
      "metadata": {
        "id": "FyBFnilw4Ub-"
      },
      "execution_count": 63,
      "outputs": []
    },
    {
      "cell_type": "code",
      "source": [
        "### Conclusão\n",
        "## Melhor opção: Regressão Logística = 0.78"
      ],
      "metadata": {
        "id": "zLWnqmkR4uFE"
      },
      "execution_count": 65,
      "outputs": []
    }
  ]
}